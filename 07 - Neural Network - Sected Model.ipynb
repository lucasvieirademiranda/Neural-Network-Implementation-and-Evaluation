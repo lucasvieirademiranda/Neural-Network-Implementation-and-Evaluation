{
 "cells": [
  {
   "cell_type": "markdown",
   "metadata": {},
   "source": [
    "Imports"
   ]
  },
  {
   "cell_type": "code",
   "execution_count": 4,
   "metadata": {},
   "outputs": [],
   "source": [
    "import itertools\n",
    "import time\n",
    "\n",
    "import numpy as np\n",
    "import pandas as pd\n",
    "\n",
    "from copy import deepcopy\n",
    "\n",
    "from sklearn.metrics import confusion_matrix\n",
    "from sklearn.metrics import accuracy_score\n",
    "from sklearn.metrics import log_loss\n",
    "\n",
    "from matplotlib import pyplot as plt"
   ]
  },
  {
   "cell_type": "markdown",
   "metadata": {},
   "source": [
    "Neural Network"
   ]
  },
  {
   "cell_type": "code",
   "execution_count": 5,
   "metadata": {},
   "outputs": [],
   "source": [
    "def cross_entropy_loss(reference_Y, predicted_Y):\n",
    "    \n",
    "    loss = 0\n",
    "    m = reference_Y.shape[0]\n",
    "    \n",
    "    for yt, yp in zip(reference_Y, predicted_Y):\n",
    "        \n",
    "        value = -1 * np.sum(yt * np.log(yp) + (1 - yt) * np.log(1 - yp))\n",
    "        \n",
    "        loss += value\n",
    "    \n",
    "    loss = (1 / m) * loss\n",
    "    \n",
    "    return loss\n",
    "\n",
    "\n",
    "class NeuralNetwork:\n",
    "    \n",
    "    def __init__(self,\n",
    "                 input_nodes,\n",
    "                 first_hidden_nodes,\n",
    "                 second_hidden_nodes,\n",
    "                 output_nodes,\n",
    "                 learning_rate,\n",
    "                 hidden_activation_function,\n",
    "                 hidden_activation_derivative):\n",
    "        \n",
    "        self.input_nodes = input_nodes\n",
    "        self.first_hidden_nodes = first_hidden_nodes\n",
    "        self.second_hidden_nodes = second_hidden_nodes\n",
    "        self.output_nodes = output_nodes\n",
    "        \n",
    "        self.learning_rate = learning_rate\n",
    "        \n",
    "        self.bwih = np.random.uniform(-0.1, 0.1, self.first_hidden_nodes).reshape(self.first_hidden_nodes, 1)\n",
    "        self.bwhh = np.random.uniform(-0.1, 0.1, self.second_hidden_nodes).reshape(self.second_hidden_nodes, 1)\n",
    "        self.bwho = np.random.uniform(-0.1, 0.1, self.output_nodes).reshape(self.output_nodes, 1)\n",
    "        \n",
    "        self.wih = np.random.uniform(-0.1, 0.1, self.first_hidden_nodes * self.input_nodes).reshape(self.first_hidden_nodes, self.input_nodes)\n",
    "        self.whh = np.random.uniform(-0.1, 0.1, self.second_hidden_nodes * self.first_hidden_nodes).reshape(self.second_hidden_nodes, self.first_hidden_nodes)\n",
    "        \n",
    "        hidden_nodes = self.first_hidden_nodes if (self.second_hidden_nodes == 0) else self.second_hidden_nodes\n",
    "        \n",
    "        self.who = np.random.uniform(-0.1, 0.1, self.output_nodes * hidden_nodes).reshape(self.output_nodes, hidden_nodes)\n",
    "        \n",
    "        self.hidden_activation_function = hidden_activation_function\n",
    "        self.hidden_activation_derivative = hidden_activation_derivative\n",
    "    \n",
    "    def _softmax(self, x):\n",
    "        \n",
    "        value = np.exp(x - np.max(x)) / np.sum(np.exp(x - np.max(x))) \n",
    "        return value\n",
    "    \n",
    "    def partial_fit(self, X, y):\n",
    "        \n",
    "        for inputs, targets in zip(X_normalized_training, y_normalized_training):\n",
    "\n",
    "            self._train(inputs, targets)\n",
    "    \n",
    "    def _train(self, inputs, targets):\n",
    "        \n",
    "        if (self.second_hidden_nodes == 0):\n",
    "            \n",
    "            self._one_hidden_layer_train(inputs, targets)\n",
    "            \n",
    "        else:\n",
    "            \n",
    "            self._two_hidden_layer_train(inputs, targets)\n",
    "        \n",
    "    \n",
    "    def _one_hidden_layer_train(self, inputs, targets):\n",
    "        \n",
    "        inputs = np.array(inputs, ndmin = 2).T\n",
    "        targets = np.array(targets, ndmin = 2).T\n",
    "                \n",
    "\n",
    "        hidden_inputs = np.dot(self.wih, inputs) + (self.bwih * 1)\n",
    "        hidden_outputs = self.hidden_activation_function(hidden_inputs)\n",
    "        \n",
    "        final_inputs = np.dot(self.who, hidden_outputs) + (self.bwho * 1)\n",
    "        outputs = self._softmax(final_inputs)\n",
    "        \n",
    "        output_errors = targets - outputs\n",
    "        \n",
    "        self.bwho += self.learning_rate * output_errors\n",
    "        self.who += self.learning_rate * np.dot(output_errors, hidden_outputs.T)\n",
    "                \n",
    "        hidden_errors = np.dot(self.who.T, output_errors)\n",
    "        \n",
    "        self.bwih += self.learning_rate * (hidden_errors * self.hidden_activation_derivative(hidden_inputs))        \n",
    "        self.wih += self.learning_rate * np.dot((hidden_errors * self.hidden_activation_derivative(hidden_inputs)), inputs.T)\n",
    "        \n",
    "    \n",
    "    def _two_hidden_layer_train(self, inputs, targets):\n",
    "        \n",
    "        inputs = np.array(inputs, ndmin = 2).T\n",
    "        targets = np.array(targets, ndmin = 2).T\n",
    "        \n",
    "        first_hidden_inputs = np.dot(self.wih, inputs) + (self.bwih * 1)\n",
    "        first_hidden_outputs = self.hidden_activation_function(first_hidden_inputs)\n",
    "        \n",
    "        second_hidden_inputs = np.dot(self.whh, first_hidden_outputs) + (self.bwhh * 1)\n",
    "        second_hidden_outputs = self.hidden_activation_function(second_hidden_inputs)\n",
    "        \n",
    "        final_inputs = np.dot(self.who, second_hidden_outputs) + (self.bwho * 1)\n",
    "        outputs  = self._softmax(final_inputs)\n",
    "        \n",
    "        output_errors = targets - outputs\n",
    "        \n",
    "        self.bwho += self.learning_rate * output_errors\n",
    "        self.who += self.learning_rate * np.dot(output_errors, second_hidden_outputs.T)\n",
    "        \n",
    "        second_hidden_errors = np.dot(self.who.T, output_errors)\n",
    "        \n",
    "        self.bwhh += self.learning_rate * (second_hidden_errors * self.hidden_activation_derivative(second_hidden_inputs))\n",
    "        self.whh += self.learning_rate * np.dot((second_hidden_errors * self.hidden_activation_derivative(second_hidden_inputs)), first_hidden_outputs.T)\n",
    "        \n",
    "        first_hidden_errors = np.dot(self.whh.T, second_hidden_errors)\n",
    "        \n",
    "        self.bwih += self.learning_rate * (first_hidden_errors * self.hidden_activation_derivative(first_hidden_inputs))\n",
    "        self.wih += self.learning_rate * np.dot((first_hidden_errors * self.hidden_activation_derivative(first_hidden_inputs)), inputs.T)\n",
    "    \n",
    "    def predict(self, X):\n",
    "        \n",
    "        outputs = []\n",
    "        \n",
    "        for inputs in X:\n",
    "            \n",
    "            output = self._query(inputs)\n",
    "            \n",
    "            output = np.argmax(output)\n",
    "            \n",
    "            outputs.append(output)\n",
    "            \n",
    "        outputs = np.array(outputs)\n",
    "        \n",
    "        return outputs\n",
    "    \n",
    "    def predict_proba(self, X):\n",
    "        \n",
    "        outputs = []\n",
    "        \n",
    "        for inputs in X:\n",
    "            \n",
    "            output = self._query(inputs)\n",
    "            \n",
    "            outputs.append(output)\n",
    "            \n",
    "        outputs = np.array(outputs)\n",
    "        \n",
    "        return outputs\n",
    "        \n",
    "    \n",
    "    def _query(self, inputs):\n",
    "        \n",
    "        result = np.array([])\n",
    "        \n",
    "        if (self.second_hidden_nodes == 0):\n",
    "            \n",
    "            result = self._one_hidden_layer_query(inputs)\n",
    "        \n",
    "        else:\n",
    "            \n",
    "            result = self._two_hidden_layer_query(inputs)\n",
    "    \n",
    "        return result\n",
    "    \n",
    "    def _one_hidden_layer_query(self, inputs):\n",
    "        \n",
    "        inputs = np.array(inputs, ndmin = 2).T\n",
    "        \n",
    "        hidden_inputs = np.dot(self.wih, inputs) + (self.bwih * 1)\n",
    "        hidden_outputs = self.hidden_activation_function(hidden_inputs)\n",
    "        \n",
    "        final_inputs = np.dot(self.who, hidden_outputs) + (self.bwho * 1)\n",
    "        final_outputs  = self._softmax(final_inputs)\n",
    "        \n",
    "        return final_outputs.ravel()\n",
    "    \n",
    "    def _two_hidden_layer_query(self, inputs):\n",
    "        \n",
    "        inputs = np.array(inputs, ndmin = 2).T\n",
    "        \n",
    "        first_hidden_inputs = np.dot(self.wih, inputs) + (self.bwih * 1)\n",
    "        first_hidden_outputs = self.hidden_activation_function(first_hidden_inputs)\n",
    "        \n",
    "        second_hidden_inputs = np.dot(self.whh, first_hidden_outputs) + (self.bwhh * 1)\n",
    "        second_hidden_outputs = self.hidden_activation_function(second_hidden_inputs)\n",
    "        \n",
    "        final_inputs = np.dot(self.who, second_hidden_outputs) + (self.bwho * 1)\n",
    "        final_outputs  = self._softmax(final_inputs)\n",
    "        \n",
    "        return final_outputs.ravel()"
   ]
  },
  {
   "cell_type": "markdown",
   "metadata": {},
   "source": [
    "Read Training Data"
   ]
  },
  {
   "cell_type": "code",
   "execution_count": 6,
   "metadata": {},
   "outputs": [],
   "source": [
    "training_set = pd.read_csv('fashion-mnist_train.csv', sep = ',')"
   ]
  },
  {
   "cell_type": "markdown",
   "metadata": {},
   "source": [
    "Split Features and Labels"
   ]
  },
  {
   "cell_type": "code",
   "execution_count": 7,
   "metadata": {},
   "outputs": [],
   "source": [
    "X_train, y_train = training_set.iloc[:, 1:].values, training_set.iloc[:, 0].values"
   ]
  },
  {
   "cell_type": "markdown",
   "metadata": {},
   "source": [
    "Split Test and Validation"
   ]
  },
  {
   "cell_type": "code",
   "execution_count": 8,
   "metadata": {},
   "outputs": [],
   "source": [
    "training_percentage = 0.8\n",
    "\n",
    "training_size = round(X_train.shape[0] * 0.8)\n",
    "\n",
    "X_training = X_train[:training_size]\n",
    "X_validation = X_train[training_size:]\n",
    "\n",
    "y_training = y_train[:training_size]\n",
    "y_validation = y_train[training_size:]"
   ]
  },
  {
   "cell_type": "markdown",
   "metadata": {},
   "source": [
    "Normalize Data"
   ]
  },
  {
   "cell_type": "code",
   "execution_count": 9,
   "metadata": {},
   "outputs": [],
   "source": [
    "# An grayscale image must have 255 as maximum value\n",
    "maximum_value = 255 \n",
    "\n",
    "# Executes normalization between 0.01 and 0.99\n",
    "X_normalized_training = (X_training / maximum_value * 0.99) + 0.01\n",
    "X_normalized_validation = (X_validation / maximum_value * 0.99) + 0.01\n",
    "\n",
    "# Executes one-hot-encoding on labels\n",
    "y_normalized_training = pd.get_dummies(y_training).values\n",
    "y_normalized_validation = pd.get_dummies(y_validation).values"
   ]
  },
  {
   "cell_type": "markdown",
   "metadata": {},
   "source": [
    "Training model with early stoping"
   ]
  },
  {
   "cell_type": "code",
   "execution_count": 23,
   "metadata": {},
   "outputs": [
    {
     "name": "stdout",
     "output_type": "stream",
     "text": [
      "Epoch: 1 Training Loss: 1.796463590331225 Validation Loss: 1.7963247943018692 Time: 8.410489082336426s\n",
      "Epoch: 2 Training Loss: 1.3258901478422778 Validation Loss: 1.3301034255182698 Time: 8.189510822296143s\n",
      "Epoch: 3 Training Loss: 1.1157171682362823 Validation Loss: 1.1257290355253886 Time: 8.234277725219727s\n",
      "Epoch: 4 Training Loss: 0.9983163646622214 Validation Loss: 1.0132547970120502 Time: 8.208562850952148s\n",
      "Epoch: 5 Training Loss: 0.9252336120243102 Validation Loss: 0.9437450126703925 Time: 8.088985681533813s\n",
      "Epoch: 6 Training Loss: 0.875886518955769 Validation Loss: 0.8971485080383957 Time: 8.202839136123657s\n",
      "Epoch: 7 Training Loss: 0.8397215445838727 Validation Loss: 0.863460833415587 Time: 8.23390245437622s\n",
      "Epoch: 8 Training Loss: 0.811672558130194 Validation Loss: 0.8378107950550111 Time: 8.224552869796753s\n",
      "Epoch: 9 Training Loss: 0.7891427504341444 Validation Loss: 0.8176017170275166 Time: 8.165979146957397s\n",
      "Epoch: 10 Training Loss: 0.7705923969745105 Validation Loss: 0.8012628318753122 Time: 8.35733437538147s\n",
      "Epoch: 11 Training Loss: 0.7549782420883235 Validation Loss: 0.7877368637757167 Time: 8.111196279525757s\n",
      "Epoch: 12 Training Loss: 0.7415644399733468 Validation Loss: 0.7762840850746792 Time: 8.14197587966919s\n",
      "Epoch: 13 Training Loss: 0.7298497581473415 Validation Loss: 0.7664102360860274 Time: 8.539080619812012s\n",
      "Epoch: 14 Training Loss: 0.7195102442217289 Validation Loss: 0.7578124141236335 Time: 8.50678038597107s\n",
      "Epoch: 15 Training Loss: 0.7103263403589787 Validation Loss: 0.7502955409079156 Time: 8.173035144805908s\n",
      "Epoch: 16 Training Loss: 0.7021213638561019 Validation Loss: 0.7436990317570819 Time: 8.156022548675537s\n",
      "Epoch: 17 Training Loss: 0.6947379616593554 Validation Loss: 0.7378724761720888 Time: 8.250535011291504s\n",
      "Epoch: 18 Training Loss: 0.6880395043751386 Validation Loss: 0.7326819714212185 Time: 8.21751093864441s\n",
      "Epoch: 19 Training Loss: 0.6819137274127627 Validation Loss: 0.7280172243639971 Time: 8.157993793487549s\n",
      "Epoch: 20 Training Loss: 0.6762714340931096 Validation Loss: 0.7237912642829585 Time: 8.27817702293396s\n",
      "Epoch: 21 Training Loss: 0.67104234414081 Validation Loss: 0.7199363114743603 Time: 8.259848833084106s\n",
      "Epoch: 22 Training Loss: 0.6661706339298995 Validation Loss: 0.7163992171724745 Time: 8.183655738830566s\n",
      "Epoch: 23 Training Loss: 0.6616112422688843 Validation Loss: 0.7131377186325 Time: 8.07160997390747s\n",
      "Epoch: 24 Training Loss: 0.6573271226840484 Validation Loss: 0.7101176486518723 Time: 8.31360912322998s\n",
      "Epoch: 25 Training Loss: 0.6532873036300241 Validation Loss: 0.7073109265619908 Time: 8.187138557434082s\n",
      "Epoch: 26 Training Loss: 0.6494655510085564 Validation Loss: 0.7046941276106907 Time: 8.771892786026001s\n",
      "Epoch: 27 Training Loss: 0.645839444354036 Validation Loss: 0.702247463413193 Time: 8.439412355422974s\n",
      "Epoch: 28 Training Loss: 0.6423897179001177 Validation Loss: 0.6999540487274953 Time: 8.234899759292603s\n",
      "Epoch: 29 Training Loss: 0.6390997604048559 Validation Loss: 0.6977993655198617 Time: 9.021630764007568s\n",
      "Epoch: 30 Training Loss: 0.6359552063885524 Validation Loss: 0.6957708611016363 Time: 9.443437099456787s\n",
      "Epoch: 31 Training Loss: 0.6329435834990178 Validation Loss: 0.6938576352854876 Time: 9.318309307098389s\n",
      "Epoch: 32 Training Loss: 0.630054003488223 Validation Loss: 0.6920501859165276 Time: 9.054916143417358s\n",
      "Epoch: 33 Training Loss: 0.6272768960422282 Validation Loss: 0.6903401942447625 Time: 9.255704402923584s\n",
      "Epoch: 34 Training Loss: 0.6246037868772977 Validation Loss: 0.6887203404713143 Time: 8.389516115188599s\n",
      "Epoch: 35 Training Loss: 0.6220271184844975 Validation Loss: 0.6871841447740638 Time: 8.731829166412354s\n",
      "Epoch: 36 Training Loss: 0.6195401081763249 Validation Loss: 0.6857258310904639 Time: 8.991478681564331s\n",
      "Epoch: 37 Training Loss: 0.6171366360718537 Validation Loss: 0.6843402114431183 Time: 8.566280603408813s\n",
      "Epoch: 38 Training Loss: 0.6148111556433348 Validation Loss: 0.6830225887458871 Time: 8.85158395767212s\n",
      "Epoch: 39 Training Loss: 0.612558620714719 Validation Loss: 0.6817686762474492 Time: 9.16187834739685s\n",
      "Epoch: 40 Training Loss: 0.6103744245166774 Validation Loss: 0.6805745320400707 Time: 9.609949111938477s\n",
      "Epoch: 41 Training Loss: 0.6082543479715454 Validation Loss: 0.6794365072214037 Time: 8.430440664291382s\n",
      "Epoch: 42 Training Loss: 0.6061945155112213 Validation Loss: 0.6783512062271575 Time: 9.356761455535889s\n",
      "Epoch: 43 Training Loss: 0.6041913573705179 Validation Loss: 0.677315457572559 Time: 9.799817562103271s\n",
      "Epoch: 44 Training Loss: 0.602241577559292 Validation Loss: 0.6763262929044884 Time: 8.271937608718872s\n",
      "Epoch: 45 Training Loss: 0.6003421267698882 Validation Loss: 0.6753809320718552 Time: 8.186853885650635s\n",
      "Epoch: 46 Training Loss: 0.598490179470353 Validation Loss: 0.6744767720014846 Time: 8.15605092048645s\n",
      "Epoch: 47 Training Loss: 0.5966831144517327 Validation Loss: 0.6736113775265802 Time: 8.140277862548828s\n",
      "Epoch: 48 Training Loss: 0.5949184981600399 Validation Loss: 0.6727824728535027 Time: 8.219290494918823s\n",
      "Epoch: 49 Training Loss: 0.593194070236355 Validation Loss: 0.6719879329276578 Time: 8.266207933425903s\n",
      "Epoch: 50 Training Loss: 0.5915077307913053 Validation Loss: 0.6712257744496002 Time: 8.202699899673462s\n",
      "Epoch: 51 Training Loss: 0.5898575290373309 Validation Loss: 0.6704941466347533 Time: 8.17216682434082s\n",
      "Epoch: 52 Training Loss: 0.5882416529881861 Validation Loss: 0.669791321995248 Time: 8.166984558105469s\n",
      "Epoch: 53 Training Loss: 0.5866584200077973 Validation Loss: 0.6691156874772481 Time: 9.04589319229126s\n",
      "Epoch: 54 Training Loss: 0.5851062680496402 Validation Loss: 0.6684657362511054 Time: 8.6575767993927s\n",
      "Epoch: 55 Training Loss: 0.583583747470058 Validation Loss: 0.6678400603597098 Time: 8.388676404953003s\n",
      "Epoch: 56 Training Loss: 0.5820895133225138 Validation Loss: 0.6672373443085765 Time: 8.107265710830688s\n",
      "Epoch: 57 Training Loss: 0.5806223180448554 Validation Loss: 0.6666563595490147 Time: 8.20421838760376s\n",
      "Epoch: 58 Training Loss: 0.5791810044436095 Validation Loss: 0.6660959596843251 Time: 8.329981088638306s\n",
      "Epoch: 59 Training Loss: 0.5777644988740812 Validation Loss: 0.665555076146028 Time: 8.33847427368164s\n",
      "Epoch: 60 Training Loss: 0.576371804527857 Validation Loss: 0.6650327140693839 Time: 8.253819227218628s\n",
      "Elapsed Time: 8.473445550600688mins\n"
     ]
    }
   ],
   "source": [
    "epochs = 60\n",
    "learning_rate = 0.001\n",
    "\n",
    "input_nodes = 784\n",
    "first_hidden_nodes = 15\n",
    "second_hidden_nodes = 0\n",
    "output_nodes = 10\n",
    "\n",
    "hidden_activation_function = lambda x : 1 / (1 + np.exp(-x))\n",
    "hidden_activation_derivative = lambda x : hidden_activation_function(x) * (1 - hidden_activation_function(x))\n",
    "\n",
    "n = NeuralNetwork(input_nodes,\n",
    "                  first_hidden_nodes,\n",
    "                  second_hidden_nodes,\n",
    "                  output_nodes,\n",
    "                  learning_rate,\n",
    "                  hidden_activation_function,\n",
    "                  hidden_activation_derivative)\n",
    "\n",
    "total_start = time.time()\n",
    "\n",
    "selected = float(\"Inf\")\n",
    "\n",
    "best_model = None\n",
    "best_epoch = 0\n",
    "\n",
    "training_epochs = []\n",
    "validation_epochs = []\n",
    "\n",
    "for epoch in range(epochs):\n",
    "    \n",
    "    start = time.time()\n",
    "    \n",
    "    training_losses = []\n",
    "    validation_losses = []\n",
    "    \n",
    "    n.partial_fit(X_normalized_training, y_normalized_training)\n",
    "    \n",
    "    predicted_training_y = n.predict_proba(X_normalized_training)\n",
    "    predicted_validation_y = n.predict_proba(X_normalized_validation)\n",
    "    \n",
    "    training_loss = cross_entropy_loss(y_normalized_training, predicted_training_y)\n",
    "    validation_loss = cross_entropy_loss(y_normalized_validation, predicted_validation_y)\n",
    "    \n",
    "    training_epochs.append([epoch + 1, training_loss])\n",
    "    validation_epochs.append([epoch + 1, validation_loss])\n",
    "    \n",
    "    # Early Stopping\n",
    "    if(validation_loss < selected):\n",
    "        \n",
    "        selected = validation_loss        \n",
    "        best_model = deepcopy(n)\n",
    "        best_epoch = epoch\n",
    "        \n",
    "    finish = time.time()\n",
    "    \n",
    "    print(\"Epoch: \" + str(epoch + 1) + \" Training Loss: \" + str(training_loss) + \" Validation Loss: \" + str(validation_loss) + \" Time: \" + str((finish - start)) + \"s\")\n",
    "    \n",
    "total_finish = time.time()\n",
    "\n",
    "print(\"Elapsed Time: \" + str((total_finish - total_start) / 60) + \"mins\")"
   ]
  },
  {
   "cell_type": "markdown",
   "metadata": {},
   "source": [
    "Plot Loss"
   ]
  },
  {
   "cell_type": "code",
   "execution_count": 42,
   "metadata": {},
   "outputs": [
    {
     "data": {
      "image/png": "[encoded data removed]",
      "text/plain": [
       "<Figure size 432x288 with 1 Axes>"
      ]
     },
     "metadata": {},
     "output_type": "display_data"
    }
   ],
   "source": [
    "training_df = pd.DataFrame(data = training_epochs, columns = ['Epoch', 'Cost'])\n",
    "validation_df = pd.DataFrame(data = validation_epochs, columns = ['Epoch', 'Cost'])\n",
    "\n",
    "plt.plot(training_df['Epoch'], training_df['Cost'], linewidth = 1.0, color = 'red')\n",
    "plt.plot(validation_df['Epoch'], validation_df['Cost'], linewidth = 1.0, color = 'blue')\n",
    "\n",
    "plt.xlabel('Epochs')\n",
    "plt.ylabel('Cost')\n",
    "\n",
    "plt.title(\"Cost x Epochs\")\n",
    "plt.legend(['Cost Training', 'Cost Validation'])\n",
    "\n",
    "plt.show()"
   ]
  },
  {
   "cell_type": "markdown",
   "metadata": {},
   "source": [
    "Acurácia na Validação"
   ]
  },
  {
   "cell_type": "code",
   "execution_count": 43,
   "metadata": {},
   "outputs": [
    {
     "name": "stdout",
     "output_type": "stream",
     "text": [
      "Accuracy: 0.866\n"
     ]
    }
   ],
   "source": [
    "y_predicted = best_model.predict(X_normalized_validation)\n",
    "accuracy = accuracy_score(y_validation, y_predicted)\n",
    "print(\"Accuracy: \" + str(accuracy))"
   ]
  },
  {
   "cell_type": "markdown",
   "metadata": {},
   "source": [
    "Read Test Data"
   ]
  },
  {
   "cell_type": "code",
   "execution_count": 44,
   "metadata": {},
   "outputs": [],
   "source": [
    "test_set = pd.read_csv('fashion-mnist_test.csv', sep = ',')"
   ]
  },
  {
   "cell_type": "markdown",
   "metadata": {},
   "source": [
    "Split Features and Labels"
   ]
  },
  {
   "cell_type": "code",
   "execution_count": 45,
   "metadata": {},
   "outputs": [],
   "source": [
    "X_test, y_test = test_set.iloc[:, 1:].values, test_set.iloc[:, 0].values"
   ]
  },
  {
   "cell_type": "markdown",
   "metadata": {},
   "source": [
    "Normalize Data"
   ]
  },
  {
   "cell_type": "code",
   "execution_count": 46,
   "metadata": {},
   "outputs": [],
   "source": [
    "# An grayscale image must have 255 as maximum value\n",
    "maximum_value = 255 \n",
    "\n",
    "# Executes normalization between 0.01 and 0.99\n",
    "X_normalized_test = (X_test / maximum_value * 0.99) + 0.01"
   ]
  },
  {
   "cell_type": "markdown",
   "metadata": {},
   "source": [
    "Predicting values from test set"
   ]
  },
  {
   "cell_type": "code",
   "execution_count": 47,
   "metadata": {},
   "outputs": [
    {
     "data": {
      "text/plain": [
       "0.8715"
      ]
     },
     "execution_count": 47,
     "metadata": {},
     "output_type": "execute_result"
    }
   ],
   "source": [
    "y_predicted = best_model.predict(X_normalized_test)\n",
    "accuracy = accuracy_score(y_test, y_predicted)\n",
    "accuracy"
   ]
  },
  {
   "cell_type": "markdown",
   "metadata": {},
   "source": [
    "Plot Confusion Matrix - Definitions"
   ]
  },
  {
   "cell_type": "code",
   "execution_count": 48,
   "metadata": {},
   "outputs": [],
   "source": [
    "def plot_confusion_matrix(confusion_matrix, classes, normalize = False, title='Confusion matrix', cmap=plt.cm.Blues):\n",
    "\n",
    "    plt.imshow(confusion_matrix, interpolation='nearest', cmap=cmap)\n",
    "    plt.title(title)\n",
    "    plt.colorbar()\n",
    "    tick_marks = np.arange(len(classes))\n",
    "    plt.xticks(tick_marks, classes, rotation=45)\n",
    "    plt.yticks(tick_marks, classes)\n",
    "\n",
    "    fmt = '.2f' if normalize else 'd'\n",
    "    \n",
    "    thresh = confusion_matrix.max() / 2.\n",
    "    \n",
    "    for i, j in itertools.product(range(cm.shape[0]), range(cm.shape[1])):\n",
    "        \n",
    "        plt.text(j, \n",
    "                 i, \n",
    "                 format(cm[i, j], fmt),\n",
    "                 horizontalalignment=\"center\",\n",
    "                 color = \"black\")#\"white\" if cm[i, j] > thresh else \"black\"\n",
    "\n",
    "    plt.ylabel('True label')\n",
    "    plt.xlabel('Predicted label')\n",
    "    plt.tight_layout()\n",
    "\n",
    "def extract_metrics(confusion_matrix):\n",
    "    \n",
    "    true_positive = np.diagonal(confusion_matrix)\n",
    "    \n",
    "    false_negative = np.sum(confusion_matrix, axis = 1) - np.diagonal(cm)\n",
    "    \n",
    "    false_positive = np.sum(confusion_matrix, axis = 0) - np.diagonal(cm)\n",
    "    \n",
    "    true_negative = np.array([np.sum(confusion_matrix) - np.sum(confusion_matrix, axis = 0)[i] - np.sum(confusion_matrix, axis = 1)[i] for i in range(confusion_matrix.shape[0])])\n",
    "    \n",
    "    return true_positive, false_negative, false_positive, true_negative \n",
    "    \n",
    "classes = np.unique(y_test)\n",
    "cm = confusion_matrix(y_test, y_predicted)\n",
    "ncm = cm.astype('float') / cm.sum(axis=1)[:, np.newaxis]"
   ]
  },
  {
   "cell_type": "code",
   "execution_count": 49,
   "metadata": {},
   "outputs": [
    {
     "data": {
      "text/plain": [
       "array([[834,   3,  15,  32,   0,   3,  97,   0,  14,   2],\n",
       "       [  2, 973,   2,  15,   2,   1,   5,   0,   0,   0],\n",
       "       [ 16,   1, 778,   8,  97,   0,  96,   0,   4,   0],\n",
       "       [ 31,  19,  11, 892,  24,   0,  22,   0,   1,   0],\n",
       "       [  1,   0,  70,  31, 811,   0,  83,   0,   4,   0],\n",
       "       [  1,   0,   0,   1,   0, 924,   1,  39,   6,  28],\n",
       "       [146,   2,  62,  26,  66,   2, 678,   0,  18,   0],\n",
       "       [  0,   0,   0,   0,   0,  34,   0, 904,   1,  61],\n",
       "       [  3,   0,   5,   6,   5,   3,  17,   4, 955,   2],\n",
       "       [  0,   0,   0,   0,   0,  10,   0,  23,   1, 966]], dtype=int64)"
      ]
     },
     "execution_count": 49,
     "metadata": {},
     "output_type": "execute_result"
    }
   ],
   "source": [
    "cm"
   ]
  },
  {
   "cell_type": "code",
   "execution_count": 50,
   "metadata": {},
   "outputs": [
    {
     "data": {
      "image/png": "[encoded data removed]",
      "text/plain": [
       "<Figure size 432x288 with 2 Axes>"
      ]
     },
     "metadata": {},
     "output_type": "display_data"
    }
   ],
   "source": [
    "plot_confusion_matrix(cm, classes, title = \"Confusion Matrix\")"
   ]
  },
  {
   "cell_type": "code",
   "execution_count": 51,
   "metadata": {},
   "outputs": [],
   "source": [
    "true_positive, false_negative, false_positive, true_negative = extract_metrics(cm)"
   ]
  },
  {
   "cell_type": "code",
   "execution_count": 52,
   "metadata": {},
   "outputs": [
    {
     "data": {
      "text/html": [
       "<div>\n",
       "<style scoped>\n",
       "    .dataframe tbody tr th:only-of-type {\n",
       "        vertical-align: middle;\n",
       "    }\n",
       "\n",
       "    .dataframe tbody tr th {\n",
       "        vertical-align: top;\n",
       "    }\n",
       "\n",
       "    .dataframe thead th {\n",
       "        text-align: right;\n",
       "    }\n",
       "</style>\n",
       "<table border=\"1\" class=\"dataframe\">\n",
       "  <thead>\n",
       "    <tr style=\"text-align: right;\">\n",
       "      <th></th>\n",
       "      <th>Class</th>\n",
       "      <th>Precision</th>\n",
       "    </tr>\n",
       "  </thead>\n",
       "  <tbody>\n",
       "    <tr>\n",
       "      <th>0</th>\n",
       "      <td>0.0</td>\n",
       "      <td>0.806576</td>\n",
       "    </tr>\n",
       "    <tr>\n",
       "      <th>1</th>\n",
       "      <td>1.0</td>\n",
       "      <td>0.974950</td>\n",
       "    </tr>\n",
       "    <tr>\n",
       "      <th>2</th>\n",
       "      <td>2.0</td>\n",
       "      <td>0.825027</td>\n",
       "    </tr>\n",
       "    <tr>\n",
       "      <th>3</th>\n",
       "      <td>3.0</td>\n",
       "      <td>0.882295</td>\n",
       "    </tr>\n",
       "    <tr>\n",
       "      <th>4</th>\n",
       "      <td>4.0</td>\n",
       "      <td>0.806965</td>\n",
       "    </tr>\n",
       "    <tr>\n",
       "      <th>5</th>\n",
       "      <td>5.0</td>\n",
       "      <td>0.945752</td>\n",
       "    </tr>\n",
       "    <tr>\n",
       "      <th>6</th>\n",
       "      <td>6.0</td>\n",
       "      <td>0.678679</td>\n",
       "    </tr>\n",
       "    <tr>\n",
       "      <th>7</th>\n",
       "      <td>7.0</td>\n",
       "      <td>0.931959</td>\n",
       "    </tr>\n",
       "    <tr>\n",
       "      <th>8</th>\n",
       "      <td>8.0</td>\n",
       "      <td>0.951195</td>\n",
       "    </tr>\n",
       "    <tr>\n",
       "      <th>9</th>\n",
       "      <td>9.0</td>\n",
       "      <td>0.912181</td>\n",
       "    </tr>\n",
       "  </tbody>\n",
       "</table>\n",
       "</div>"
      ],
      "text/plain": [
       "   Class  Precision\n",
       "0    0.0   0.806576\n",
       "1    1.0   0.974950\n",
       "2    2.0   0.825027\n",
       "3    3.0   0.882295\n",
       "4    4.0   0.806965\n",
       "5    5.0   0.945752\n",
       "6    6.0   0.678679\n",
       "7    7.0   0.931959\n",
       "8    8.0   0.951195\n",
       "9    9.0   0.912181"
      ]
     },
     "execution_count": 52,
     "metadata": {},
     "output_type": "execute_result"
    }
   ],
   "source": [
    "# Entre os valores classificados como positivos, qual a porcentagem dos que realmente eram positivos\n",
    "class_precision = true_positive / (true_positive + false_positive)\n",
    "\n",
    "class_precision_data = np.stack((classes, class_precision), axis = 1)\n",
    "\n",
    "pd.DataFrame(data = class_precision_data, columns = ['Class', 'Precision'])"
   ]
  },
  {
   "cell_type": "code",
   "execution_count": 53,
   "metadata": {},
   "outputs": [
    {
     "data": {
      "text/html": [
       "<div>\n",
       "<style scoped>\n",
       "    .dataframe tbody tr th:only-of-type {\n",
       "        vertical-align: middle;\n",
       "    }\n",
       "\n",
       "    .dataframe tbody tr th {\n",
       "        vertical-align: top;\n",
       "    }\n",
       "\n",
       "    .dataframe thead th {\n",
       "        text-align: right;\n",
       "    }\n",
       "</style>\n",
       "<table border=\"1\" class=\"dataframe\">\n",
       "  <thead>\n",
       "    <tr style=\"text-align: right;\">\n",
       "      <th></th>\n",
       "      <th>Class</th>\n",
       "      <th>Recall</th>\n",
       "    </tr>\n",
       "  </thead>\n",
       "  <tbody>\n",
       "    <tr>\n",
       "      <th>0</th>\n",
       "      <td>0.0</td>\n",
       "      <td>0.834</td>\n",
       "    </tr>\n",
       "    <tr>\n",
       "      <th>1</th>\n",
       "      <td>1.0</td>\n",
       "      <td>0.973</td>\n",
       "    </tr>\n",
       "    <tr>\n",
       "      <th>2</th>\n",
       "      <td>2.0</td>\n",
       "      <td>0.778</td>\n",
       "    </tr>\n",
       "    <tr>\n",
       "      <th>3</th>\n",
       "      <td>3.0</td>\n",
       "      <td>0.892</td>\n",
       "    </tr>\n",
       "    <tr>\n",
       "      <th>4</th>\n",
       "      <td>4.0</td>\n",
       "      <td>0.811</td>\n",
       "    </tr>\n",
       "    <tr>\n",
       "      <th>5</th>\n",
       "      <td>5.0</td>\n",
       "      <td>0.924</td>\n",
       "    </tr>\n",
       "    <tr>\n",
       "      <th>6</th>\n",
       "      <td>6.0</td>\n",
       "      <td>0.678</td>\n",
       "    </tr>\n",
       "    <tr>\n",
       "      <th>7</th>\n",
       "      <td>7.0</td>\n",
       "      <td>0.904</td>\n",
       "    </tr>\n",
       "    <tr>\n",
       "      <th>8</th>\n",
       "      <td>8.0</td>\n",
       "      <td>0.955</td>\n",
       "    </tr>\n",
       "    <tr>\n",
       "      <th>9</th>\n",
       "      <td>9.0</td>\n",
       "      <td>0.966</td>\n",
       "    </tr>\n",
       "  </tbody>\n",
       "</table>\n",
       "</div>"
      ],
      "text/plain": [
       "   Class  Recall\n",
       "0    0.0   0.834\n",
       "1    1.0   0.973\n",
       "2    2.0   0.778\n",
       "3    3.0   0.892\n",
       "4    4.0   0.811\n",
       "5    5.0   0.924\n",
       "6    6.0   0.678\n",
       "7    7.0   0.904\n",
       "8    8.0   0.955\n",
       "9    9.0   0.966"
      ]
     },
     "execution_count": 53,
     "metadata": {},
     "output_type": "execute_result"
    }
   ],
   "source": [
    "# Entre os valores que deveriam ser positivos, qual o porcentagem dos que foram classificados como positivos\n",
    "class_recall = true_positive / (true_positive + false_negative)\n",
    "\n",
    "class_recall_data = np.stack((classes, class_recall), axis = 1)\n",
    "\n",
    "pd.DataFrame(data = class_recall_data, columns = ['Class', 'Recall'])"
   ]
  },
  {
   "cell_type": "code",
   "execution_count": 54,
   "metadata": {},
   "outputs": [
    {
     "data": {
      "text/html": [
       "<div>\n",
       "<style scoped>\n",
       "    .dataframe tbody tr th:only-of-type {\n",
       "        vertical-align: middle;\n",
       "    }\n",
       "\n",
       "    .dataframe tbody tr th {\n",
       "        vertical-align: top;\n",
       "    }\n",
       "\n",
       "    .dataframe thead th {\n",
       "        text-align: right;\n",
       "    }\n",
       "</style>\n",
       "<table border=\"1\" class=\"dataframe\">\n",
       "  <thead>\n",
       "    <tr style=\"text-align: right;\">\n",
       "      <th></th>\n",
       "      <th>Class</th>\n",
       "      <th>F1 Score</th>\n",
       "    </tr>\n",
       "  </thead>\n",
       "  <tbody>\n",
       "    <tr>\n",
       "      <th>0</th>\n",
       "      <td>0.0</td>\n",
       "      <td>0.820059</td>\n",
       "    </tr>\n",
       "    <tr>\n",
       "      <th>1</th>\n",
       "      <td>1.0</td>\n",
       "      <td>0.973974</td>\n",
       "    </tr>\n",
       "    <tr>\n",
       "      <th>2</th>\n",
       "      <td>2.0</td>\n",
       "      <td>0.800823</td>\n",
       "    </tr>\n",
       "    <tr>\n",
       "      <th>3</th>\n",
       "      <td>3.0</td>\n",
       "      <td>0.887121</td>\n",
       "    </tr>\n",
       "    <tr>\n",
       "      <th>4</th>\n",
       "      <td>4.0</td>\n",
       "      <td>0.808978</td>\n",
       "    </tr>\n",
       "    <tr>\n",
       "      <th>5</th>\n",
       "      <td>5.0</td>\n",
       "      <td>0.934750</td>\n",
       "    </tr>\n",
       "    <tr>\n",
       "      <th>6</th>\n",
       "      <td>6.0</td>\n",
       "      <td>0.678339</td>\n",
       "    </tr>\n",
       "    <tr>\n",
       "      <th>7</th>\n",
       "      <td>7.0</td>\n",
       "      <td>0.917766</td>\n",
       "    </tr>\n",
       "    <tr>\n",
       "      <th>8</th>\n",
       "      <td>8.0</td>\n",
       "      <td>0.953094</td>\n",
       "    </tr>\n",
       "    <tr>\n",
       "      <th>9</th>\n",
       "      <td>9.0</td>\n",
       "      <td>0.938320</td>\n",
       "    </tr>\n",
       "  </tbody>\n",
       "</table>\n",
       "</div>"
      ],
      "text/plain": [
       "   Class  F1 Score\n",
       "0    0.0  0.820059\n",
       "1    1.0  0.973974\n",
       "2    2.0  0.800823\n",
       "3    3.0  0.887121\n",
       "4    4.0  0.808978\n",
       "5    5.0  0.934750\n",
       "6    6.0  0.678339\n",
       "7    7.0  0.917766\n",
       "8    8.0  0.953094\n",
       "9    9.0  0.938320"
      ]
     },
     "execution_count": 54,
     "metadata": {},
     "output_type": "execute_result"
    }
   ],
   "source": [
    "class_f1_score = 2 * class_precision * class_recall / (class_precision + class_recall)\n",
    "\n",
    "class_f1_score_data = np.stack((classes, class_f1_score), axis = 1)\n",
    "\n",
    "pd.DataFrame(data = class_f1_score_data, columns = ['Class', 'F1 Score'])"
   ]
  },
  {
   "cell_type": "code",
   "execution_count": 55,
   "metadata": {},
   "outputs": [
    {
     "data": {
      "text/plain": [
       "0.8715"
      ]
     },
     "execution_count": 55,
     "metadata": {},
     "output_type": "execute_result"
    }
   ],
   "source": [
    "model_accuracy = np.diagonal(cm).sum() / np.sum(cm)\n",
    "model_accuracy"
   ]
  },
  {
   "cell_type": "code",
   "execution_count": 56,
   "metadata": {},
   "outputs": [
    {
     "data": {
      "text/plain": [
       "0.8715579011823589"
      ]
     },
     "execution_count": 56,
     "metadata": {},
     "output_type": "execute_result"
    }
   ],
   "source": [
    "# Normalized Accuracy = Precision\n",
    "model_normalized_accuracy = np.sum(true_positive / (true_positive + false_positive)) / 10\n",
    "model_normalized_accuracy"
   ]
  },
  {
   "cell_type": "code",
   "execution_count": 57,
   "metadata": {},
   "outputs": [
    {
     "data": {
      "text/plain": [
       "0.8715579011823589"
      ]
     },
     "execution_count": 57,
     "metadata": {},
     "output_type": "execute_result"
    }
   ],
   "source": [
    "model_precision = np.sum(class_precision) / 10\n",
    "model_precision"
   ]
  },
  {
   "cell_type": "code",
   "execution_count": 58,
   "metadata": {},
   "outputs": [
    {
     "data": {
      "text/plain": [
       "0.8714999999999999"
      ]
     },
     "execution_count": 58,
     "metadata": {},
     "output_type": "execute_result"
    }
   ],
   "source": [
    "model_recall = np.sum(class_recall) / 10\n",
    "model_recall"
   ]
  },
  {
   "cell_type": "code",
   "execution_count": 59,
   "metadata": {},
   "outputs": [
    {
     "data": {
      "text/plain": [
       "0.8713223504069063"
      ]
     },
     "execution_count": 59,
     "metadata": {},
     "output_type": "execute_result"
    }
   ],
   "source": [
    "model_f1_score = np.sum(class_f1_score) / 10\n",
    "model_f1_score"
   ]
  },
  {
   "cell_type": "code",
   "execution_count": null,
   "metadata": {},
   "outputs": [],
   "source": []
  }
 ],
 "metadata": {
  "kernelspec": {
   "display_name": "Python 3",
   "language": "python",
   "name": "python3"
  },
  "language_info": {
   "codemirror_mode": {
    "name": "ipython",
    "version": 3
   },
   "file_extension": ".py",
   "mimetype": "text/x-python",
   "name": "python",
   "nbconvert_exporter": "python",
   "pygments_lexer": "ipython3",
   "version": "3.7.6"
  }
 },
 "nbformat": 4,
 "nbformat_minor": 2
}

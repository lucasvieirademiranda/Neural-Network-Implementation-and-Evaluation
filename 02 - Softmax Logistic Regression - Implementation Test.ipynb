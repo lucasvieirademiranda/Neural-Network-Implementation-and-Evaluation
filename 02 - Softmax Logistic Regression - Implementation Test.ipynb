{
 "cells": [
  {
   "cell_type": "code",
   "execution_count": 20,
   "metadata": {},
   "outputs": [],
   "source": [
    "import numpy as np\n",
    "import pandas as pd\n",
    "\n",
    "from sklearn.metrics import accuracy_score\n",
    "\n",
    "from matplotlib import pyplot as plt\n",
    "\n",
    "np.set_printoptions(suppress = True)"
   ]
  },
  {
   "cell_type": "code",
   "execution_count": 21,
   "metadata": {},
   "outputs": [],
   "source": [
    "def cross_entropy_loss(reference_Y, predicted_Y):\n",
    "    \n",
    "    loss = 0\n",
    "    total_samples = reference_Y.shape[0]\n",
    "    \n",
    "    for reference_y, predicted_y in zip(reference_Y, predicted_Y):\n",
    "\n",
    "        log_predicted_y = np.log(predicted_y)\n",
    "        \n",
    "        loss += (reference_y * log_predicted_y).sum()\n",
    "    \n",
    "    loss =  -1 * (1 / total_samples) * loss\n",
    "    \n",
    "    return loss\n",
    "    \n",
    "def one_hot_encoding(values):\n",
    "    \n",
    "    classes = np.unique(values).tolist()\n",
    "    \n",
    "    total_classes = len(classes)\n",
    "    \n",
    "    outputs = []\n",
    "    \n",
    "    for value in values:\n",
    "        \n",
    "        index = classes.index(value)\n",
    "        \n",
    "        output = np.zeros(total_classes)\n",
    "        output[index] = 1\n",
    "        \n",
    "        outputs.append(output)\n",
    "        \n",
    "    outputs = np.array(outputs)\n",
    "    \n",
    "    return outputs\n",
    "\n",
    "class SoftmaxRegression:\n",
    "    \n",
    "    def __init__(self, eta0 = 0.01, fit_intercept = True):\n",
    "        \n",
    "        self.eta0 = eta0\n",
    "        self.fit_intercept = fit_intercept\n",
    "        \n",
    "        self.intercept_ = np.array([])\n",
    "        self.coef_ = np.array([])\n",
    "    \n",
    "    def _softmax(self, S):\n",
    "        \n",
    "        E = np.exp(S)\n",
    "        return E / E.sum()\n",
    "    \n",
    "    def partial_fit(self, X, Y):\n",
    "\n",
    "        n_classes = Y.shape[1]\n",
    "        \n",
    "        if (not self.intercept_.any()):\n",
    "            self.intercept_ = np.zeros(n_classes)\n",
    "        \n",
    "        if (not self.coef_.any()):\n",
    "            self.coef_ = np.zeros((n_classes, X.shape[1]))\n",
    "        \n",
    "        for inputs, targets in zip(X, Y):\n",
    "\n",
    "            if (self.fit_intercept):\n",
    "            \n",
    "                S = np.dot(inputs, self.coef_.T) + self.intercept_\n",
    "\n",
    "                sigma = self._softmax(S)\n",
    "\n",
    "                for n_class in range(n_classes):\n",
    "\n",
    "                    self.intercept_[n_class] = self.intercept_[n_class] - (self.eta0 * (sigma[n_class] - targets[n_class])) \n",
    "                    self.coef_[n_class] = self.coef_[n_class] - (self.eta0 * (sigma[n_class] - targets[n_class]) * inputs)\n",
    "                    \n",
    "            else:\n",
    "                \n",
    "                S = np.dot(inputs, self.coef_.T)\n",
    "\n",
    "                sigma = self._softmax(S)\n",
    "\n",
    "                for n_class in range(self.n_classes_):\n",
    "\n",
    "                    self.coef_[n_class] = self.coef_[n_class] - (self.eta0 * (sigma[n_class] - targets[n_class]) * inputs)\n",
    "    \n",
    "    def predict(self, X):\n",
    "        \n",
    "        outputs = []\n",
    "        \n",
    "        X = self.predict_proba(X)\n",
    "        \n",
    "        for inputs in X:\n",
    "        \n",
    "            output = np.argmax(inputs)\n",
    "            \n",
    "            outputs.append(output)\n",
    "            \n",
    "        outputs = np.array(outputs)\n",
    "        \n",
    "        return outputs\n",
    "    \n",
    "    def predict_proba(self, X):\n",
    "        \n",
    "        outputs = []\n",
    "        \n",
    "        for inputs in X:\n",
    "            \n",
    "            if (self.fit_intercept):\n",
    "            \n",
    "                S = np.dot(inputs, self.coef_.T) + self.intercept_\n",
    "            \n",
    "                output = self._softmax(S)\n",
    "            \n",
    "            else:\n",
    "                \n",
    "                S = np.dot(inputs, self.coef_.T)\n",
    "            \n",
    "                output = self._softmax(S)\n",
    "            \n",
    "            outputs.append(output)\n",
    "            \n",
    "        outputs = np.array(outputs)\n",
    "        \n",
    "        return outputs"
   ]
  },
  {
   "cell_type": "code",
   "execution_count": 22,
   "metadata": {},
   "outputs": [
    {
     "data": {
      "image/png": "[encoded data removed]",
      "text/plain": [
       "<Figure size 432x288 with 1 Axes>"
      ]
     },
     "metadata": {},
     "output_type": "display_data"
    }
   ],
   "source": [
    "total_data = 200\n",
    "\n",
    "X = np.random.uniform(0, 10, size = (100, 2))\n",
    "\n",
    "y = [ int(((i + j) / 2) >= 5) for i, j in X ]\n",
    "\n",
    "color = [ 'red' if i == 0 else 'blue' for i in y ]\n",
    "\n",
    "plt.scatter(X[:, 0], X[:, 1], color = color)\n",
    "\n",
    "plt.xticks()\n",
    "plt.yticks()\n",
    "\n",
    "plt.show()"
   ]
  },
  {
   "cell_type": "code",
   "execution_count": 23,
   "metadata": {},
   "outputs": [],
   "source": [
    "training_size = 0.8\n",
    "\n",
    "total = X.shape[0]\n",
    "\n",
    "training_size = round(total * training_size)\n",
    "validation_size = total - training_size\n",
    "\n",
    "training_X = X[:training_size]\n",
    "validation_X = X[training_size:]\n",
    "\n",
    "training_y = y[:training_size]\n",
    "validation_y = y[training_size:]\n",
    "\n",
    "encoded_training_Y = one_hot_encoding(training_y)\n",
    "encoded_validation_Y = one_hot_encoding(validation_y)"
   ]
  },
  {
   "cell_type": "code",
   "execution_count": 24,
   "metadata": {},
   "outputs": [
    {
     "data": {
      "image/png": "[encoded data removed]",
      "text/plain": [
       "<Figure size 432x288 with 1 Axes>"
      ]
     },
     "metadata": {},
     "output_type": "display_data"
    },
    {
     "name": "stdout",
     "output_type": "stream",
     "text": [
      "Intercepts: [ 5.20293129 -5.20293129]\n",
      "Coefficients: [[-0.56177616 -0.49147571]\n",
      " [ 0.56177616  0.49147571]]\n"
     ]
    }
   ],
   "source": [
    "epochs = 200\n",
    "\n",
    "classifier = SoftmaxRegression(eta0 = 0.01, fit_intercept = True)\n",
    "\n",
    "training_epochs = []\n",
    "validation_epochs = []\n",
    "\n",
    "for epoch in range(epochs): \n",
    "\n",
    "    classifier.partial_fit(training_X, encoded_training_Y)\n",
    "    \n",
    "    predicted_training_Y = classifier.predict_proba(training_X)\n",
    "    training_loss = cross_entropy_loss(encoded_training_Y, predicted_training_Y)\n",
    "    \n",
    "    training_epochs.append([epoch, training_loss])\n",
    "    \n",
    "    predicted_validation_Y = classifier.predict_proba(validation_X)\n",
    "    validation_loss = cross_entropy_loss(encoded_validation_Y, predicted_validation_Y)\n",
    "    \n",
    "    validation_epochs.append([epoch, validation_loss])\n",
    "    \n",
    "training_df = pd.DataFrame(data = training_epochs, columns = ['Epoch', 'Cost'])\n",
    "validation_df = pd.DataFrame(data = validation_epochs, columns = ['Epoch', 'Cost'])\n",
    "\n",
    "plt.plot(training_df['Epoch'], training_df['Cost'], linewidth = 1.0, color = 'red')\n",
    "plt.plot(validation_df['Epoch'], validation_df['Cost'], linewidth = 1.0, color = 'blue')\n",
    "\n",
    "plt.xlabel('Epochs')\n",
    "plt.ylabel('Cost')\n",
    "\n",
    "plt.title(\"Cost x Epochs\")\n",
    "plt.legend(['Cost Training', 'Cost Validation'])\n",
    "\n",
    "plt.show()\n",
    "    \n",
    "print(\"Intercepts: \" + str(classifier.intercept_))\n",
    "print(\"Coefficients: \" + str(classifier.coef_))"
   ]
  },
  {
   "cell_type": "code",
   "execution_count": 25,
   "metadata": {},
   "outputs": [
    {
     "data": {
      "text/plain": [
       "1.0"
      ]
     },
     "execution_count": 25,
     "metadata": {},
     "output_type": "execute_result"
    }
   ],
   "source": [
    "predicted_y = classifier.predict(validation_X)\n",
    "accuracy_score(validation_y, predicted_y)"
   ]
  },
  {
   "cell_type": "code",
   "execution_count": 26,
   "metadata": {},
   "outputs": [
    {
     "data": {
      "image/png": "[encoded data removed]",
      "text/plain": [
       "<Figure size 432x288 with 1 Axes>"
      ]
     },
     "metadata": {},
     "output_type": "display_data"
    }
   ],
   "source": [
    "x1 = np.stack([np.random.normal(2, 0.5, 33), np.random.normal(2, 0.5, 33), [0] * 33], axis = 1)\n",
    "x2 = np.stack([np.random.normal(5, 0.5, 33), np.random.normal(8, 0.5, 33), [1] * 33], axis = 1)\n",
    "x3 = np.stack([np.random.normal(8, 0.5, 33), np.random.normal(2, 0.5, 33), [2] * 33], axis = 1)\n",
    "\n",
    "data = np.concatenate((x1, x2, x3))\n",
    "\n",
    "np.random.shuffle(data)\n",
    "\n",
    "color = []\n",
    "\n",
    "for x1, x2, y in data:\n",
    "    \n",
    "    if (y == 0):\n",
    "        color.append('red')\n",
    "    elif (y == 1):\n",
    "        color.append('green')\n",
    "    else:\n",
    "        color.append('blue')\n",
    "\n",
    "plt.scatter(data[:, 0], data[:, 1], color = color)\n",
    "\n",
    "plt.xticks()\n",
    "plt.yticks()\n",
    "\n",
    "plt.show()"
   ]
  },
  {
   "cell_type": "code",
   "execution_count": 27,
   "metadata": {},
   "outputs": [],
   "source": [
    "X = data[:, 0:2]\n",
    "y = data[:, 2]"
   ]
  },
  {
   "cell_type": "code",
   "execution_count": 28,
   "metadata": {},
   "outputs": [],
   "source": [
    "training_size = 0.8\n",
    "\n",
    "total = X.shape[0]\n",
    "\n",
    "training_size = round(total * training_size)\n",
    "validation_size = total - training_size\n",
    "\n",
    "training_X = X[:training_size]\n",
    "validation_X = X[training_size:]\n",
    "\n",
    "training_y = y[:training_size]\n",
    "validation_y = y[training_size:]\n",
    "\n",
    "encoded_training_Y = one_hot_encoding(training_y)\n",
    "encoded_validation_Y = one_hot_encoding(validation_y)"
   ]
  },
  {
   "cell_type": "code",
   "execution_count": 29,
   "metadata": {},
   "outputs": [
    {
     "data": {
      "image/png": "[encoded data removed]",
      "text/plain": [
       "<Figure size 432x288 with 1 Axes>"
      ]
     },
     "metadata": {},
     "output_type": "display_data"
    },
    {
     "name": "stdout",
     "output_type": "stream",
     "text": [
      "Intercepts: [ 6.27505115 -4.6296343  -1.64541685]\n",
      "Coefficients: [[-0.77751383  0.11448344]\n",
      " [-1.33681721  2.7901195 ]\n",
      " [ 2.11433105 -2.90460294]]\n"
     ]
    }
   ],
   "source": [
    "epochs = 200\n",
    "\n",
    "classifier = SoftmaxRegression(eta0 = 0.1, fit_intercept = True)\n",
    "\n",
    "training_epochs = []\n",
    "validation_epochs = []\n",
    "\n",
    "for epoch in range(epochs): \n",
    "\n",
    "    classifier.partial_fit(training_X, encoded_training_Y)\n",
    "    \n",
    "    predicted_training_Y = classifier.predict_proba(training_X)\n",
    "    training_loss = cross_entropy_loss(encoded_training_Y, predicted_training_Y)\n",
    "    \n",
    "    training_epochs.append([epoch, training_loss])\n",
    "    \n",
    "    predicted_validation_Y = classifier.predict_proba(validation_X)\n",
    "    validation_loss = cross_entropy_loss(encoded_validation_Y, predicted_validation_Y)\n",
    "    \n",
    "    validation_epochs.append([epoch, validation_loss])\n",
    "    \n",
    "training_df = pd.DataFrame(data = training_epochs, columns = ['Epoch', 'Cost'])\n",
    "validation_df = pd.DataFrame(data = validation_epochs, columns = ['Epoch', 'Cost'])\n",
    "\n",
    "plt.plot(training_df['Epoch'], training_df['Cost'], linewidth = 1.0, color = 'red')\n",
    "plt.plot(validation_df['Epoch'], validation_df['Cost'], linewidth = 1.0, color = 'blue')\n",
    "\n",
    "plt.xlabel('Epochs')\n",
    "plt.ylabel('Cost')\n",
    "\n",
    "plt.title(\"Cost x Epochs\")\n",
    "plt.legend(['Cost Training', 'Cost Validation'])\n",
    "\n",
    "plt.show()\n",
    "    \n",
    "print(\"Intercepts: \" + str(classifier.intercept_))\n",
    "print(\"Coefficients: \" + str(classifier.coef_))"
   ]
  },
  {
   "cell_type": "code",
   "execution_count": 30,
   "metadata": {},
   "outputs": [
    {
     "data": {
      "text/plain": [
       "1.0"
      ]
     },
     "execution_count": 30,
     "metadata": {},
     "output_type": "execute_result"
    }
   ],
   "source": [
    "predicted_y = classifier.predict(validation_X)\n",
    "accuracy_score(validation_y, predicted_y)"
   ]
  },
  {
   "cell_type": "code",
   "execution_count": null,
   "metadata": {},
   "outputs": [],
   "source": []
  },
  {
   "cell_type": "code",
   "execution_count": null,
   "metadata": {},
   "outputs": [],
   "source": []
  }
 ],
 "metadata": {
  "kernelspec": {
   "display_name": "Python 3",
   "language": "python",
   "name": "python3"
  },
  "language_info": {
   "codemirror_mode": {
    "name": "ipython",
    "version": 3
   },
   "file_extension": ".py",
   "mimetype": "text/x-python",
   "name": "python",
   "nbconvert_exporter": "python",
   "pygments_lexer": "ipython3",
   "version": "3.5.5"
  }
 },
 "nbformat": 4,
 "nbformat_minor": 2
}

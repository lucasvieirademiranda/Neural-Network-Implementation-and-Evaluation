{
 "cells": [
  {
   "cell_type": "code",
   "execution_count": 1,
   "metadata": {},
   "outputs": [],
   "source": [
    "import numpy as np\n",
    "import pandas as pd\n",
    "\n",
    "from sklearn import linear_model\n",
    "from sklearn.metrics import log_loss\n",
    "from sklearn.metrics import accuracy_score\n",
    "\n",
    "from matplotlib import pyplot as plt\n",
    "\n",
    "np.set_printoptions(suppress=True)"
   ]
  },
  {
   "cell_type": "code",
   "execution_count": 2,
   "metadata": {},
   "outputs": [],
   "source": [
    "class SGDClassifier:\n",
    "    \n",
    "    def __init__(self, eta0 = 0.01, fit_intercept = True):\n",
    "        \n",
    "        self.eta0 = eta0\n",
    "        self.fit_intercept = fit_intercept\n",
    "        \n",
    "        self.classes_ = np.array([])\n",
    "        self.n_classes_ = 0\n",
    "        \n",
    "        self.intercept_ = np.array([])\n",
    "        self.coef_ = np.array([])\n",
    "    \n",
    "    def _sigmoid(self, z):\n",
    "        \n",
    "        result = 1 / (1 + np.exp(-z))\n",
    "        \n",
    "        return result\n",
    "    \n",
    "    def partial_fit(self, X, y, classes):\n",
    "        \n",
    "        if (not self.classes_.any()):\n",
    "            self.classes_ = classes\n",
    "            self.n_classes_ = len(classes)\n",
    "        \n",
    "        if(not self.intercept_.any()):\n",
    "            self.intercept_ = np.zeros(self.n_classes_)\n",
    "        \n",
    "        if(not self.coef_.any()):\n",
    "            self.coef_ = np.zeros((self.n_classes_, X.shape[1]))\n",
    "        \n",
    "        for n_class in range(self.n_classes_):\n",
    "            \n",
    "            classe = classes[n_class]\n",
    "            \n",
    "            _y = np.array(y, copy = True)\n",
    "        \n",
    "            _y[_y != classe] = -1\n",
    "            _y[_y == classe] = 1\n",
    "            _y[_y == -1] = 0\n",
    "                      \n",
    "            for inputs, target  in zip(X,  _y):\n",
    "                \n",
    "                if (self.fit_intercept):\n",
    "\n",
    "                    z = np.dot(inputs, self.coef_[n_class]) + self.intercept_[n_class]\n",
    "                    h = self._sigmoid(z)\n",
    "                    \n",
    "                    self.intercept_[n_class] = self.intercept_[n_class] - (self.eta0 * (h - target))\n",
    "                    self.coef_[n_class] = self.coef_[n_class] - (self.eta0 * (h - target) * inputs)\n",
    "\n",
    "                else:\n",
    "\n",
    "                    z = np.dot(inputs, self.coef_[n_class])\n",
    "                    h = self._sigmoid(z)\n",
    "\n",
    "                    self.coef_[n_class] = self.coef_[n_class] - (self.eta0 * (h - target) * inputs)\n",
    "                        \n",
    "    def predict(self, X):\n",
    "        \n",
    "        outputs = []\n",
    "        \n",
    "        X = self.predict_proba(X)\n",
    "        \n",
    "        for inputs in X:\n",
    "        \n",
    "            output = np.argmax(inputs)\n",
    "            \n",
    "            outputs.append(output)\n",
    "            \n",
    "        outputs = np.array(outputs)\n",
    "        \n",
    "        return outputs\n",
    "        \n",
    "    \n",
    "    def predict_proba(self, X):\n",
    "        \n",
    "        outputs = []\n",
    "        \n",
    "        for inputs in X:\n",
    "            \n",
    "            output = np.array([])\n",
    "            \n",
    "            for n_class in range(self.n_classes_):\n",
    "                \n",
    "                h = 0\n",
    "\n",
    "                if (self.fit_intercept):\n",
    "\n",
    "                    z = np.dot(inputs, self.coef_[n_class]) + self.intercept_[n_class]\n",
    "                    h = self._sigmoid(z)\n",
    "\n",
    "                else:\n",
    "\n",
    "                    z = np.dot(inputs, self.coef_[n_class])\n",
    "                    h = self._sigmoid(z)\n",
    "                \n",
    "                output = np.append(output, h)\n",
    "                \n",
    "            output = (1 / output.sum()) * output\n",
    "            \n",
    "            outputs.append(output)\n",
    "            \n",
    "        outputs = np.array(outputs)\n",
    "            \n",
    "        return outputs"
   ]
  },
  {
   "cell_type": "code",
   "execution_count": 3,
   "metadata": {},
   "outputs": [
    {
     "data": {
      "image/png": "[encoded data removed]",
      "text/plain": [
       "<Figure size 432x288 with 1 Axes>"
      ]
     },
     "metadata": {},
     "output_type": "display_data"
    }
   ],
   "source": [
    "total_data = 200\n",
    "\n",
    "X = np.random.uniform(0, 10, size = (100, 2))\n",
    "\n",
    "y = [ int(((i + j) / 2) >= 5) for i, j in X ]\n",
    "\n",
    "color = [ 'red' if i == 0 else 'blue' for i in y ]\n",
    "\n",
    "plt.scatter(X[:, 0], X[:, 1], color = color)\n",
    "\n",
    "plt.xticks()\n",
    "plt.yticks()\n",
    "\n",
    "plt.show()"
   ]
  },
  {
   "cell_type": "code",
   "execution_count": 46,
   "metadata": {},
   "outputs": [],
   "source": [
    "training_size = 0.8\n",
    "\n",
    "total = X.shape[0]\n",
    "\n",
    "training_size = round(total * training_size)\n",
    "validation_size = total - training_size\n",
    "\n",
    "training_X = X[:training_size]\n",
    "validation_X = X[training_size:]\n",
    "\n",
    "training_y = y[:training_size]\n",
    "validation_y = y[training_size:]"
   ]
  },
  {
   "cell_type": "code",
   "execution_count": 47,
   "metadata": {},
   "outputs": [
    {
     "data": {
      "image/png": "[encoded data removed]",
      "text/plain": [
       "<Figure size 432x288 with 1 Axes>"
      ]
     },
     "metadata": {},
     "output_type": "display_data"
    }
   ],
   "source": [
    "epochs = 200\n",
    "\n",
    "classifier = linear_model.SGDClassifier(loss = \"log\",\n",
    "                                        shuffle = False,\n",
    "                                        fit_intercept = True,\n",
    "                                        penalty = None,\n",
    "                                        learning_rate = 'constant',\n",
    "                                        eta0 = 0.1,\n",
    "                                        max_iter = 1000,\n",
    "                                        verbose = False)\n",
    "\n",
    "classes = np.unique(training_y)\n",
    "\n",
    "training_epochs = []\n",
    "validation_epochs = []\n",
    "\n",
    "for epoch in range(epochs):\n",
    "\n",
    "    classifier.partial_fit(training_X, training_y, classes)\n",
    "    \n",
    "    training_prediction_y = classifier.predict_proba(training_X)\n",
    "    \n",
    "    #print(classifier.coef_)\n",
    "    #print(classifier.intercept_)\n",
    "    #print(training_prediction_y)\n",
    "    \n",
    "    training_mse = log_loss(training_y, training_prediction_y, normalize = True)\n",
    "    \n",
    "    training_epochs.append([epoch, training_mse])\n",
    "    \n",
    "    validation_prediction_y = classifier.predict_proba(validation_X)\n",
    "    validation_mse = log_loss(validation_y, validation_prediction_y, normalize = True)\n",
    "    \n",
    "    validation_epochs.append([epoch, validation_mse])\n",
    "    \n",
    "training_df = pd.DataFrame(data = training_epochs, columns = ['Epoch', 'Cost'])\n",
    "validation_df = pd.DataFrame(data = validation_epochs, columns = ['Epoch', 'Cost'])\n",
    "\n",
    "plt.plot(training_df['Epoch'], training_df['Cost'], linewidth = 1.0, color = 'red')\n",
    "plt.plot(validation_df['Epoch'], validation_df['Cost'], linewidth = 1.0, color = 'blue')\n",
    "\n",
    "plt.xlabel('Epochs')\n",
    "plt.ylabel('Cost')\n",
    "\n",
    "plt.title(\"Cost x Epochs\")\n",
    "plt.legend(['Cost Training', 'Cost Validation'])\n",
    "\n",
    "plt.show()"
   ]
  },
  {
   "cell_type": "code",
   "execution_count": 48,
   "metadata": {},
   "outputs": [
    {
     "data": {
      "text/plain": [
       "1.0"
      ]
     },
     "execution_count": 48,
     "metadata": {},
     "output_type": "execute_result"
    }
   ],
   "source": [
    "predicted_y = classifier.predict(validation_X)\n",
    "accuracy_score(validation_y, predicted_y)"
   ]
  },
  {
   "cell_type": "code",
   "execution_count": 49,
   "metadata": {},
   "outputs": [
    {
     "data": {
      "image/png": "[encoded data removed]",
      "text/plain": [
       "<Figure size 432x288 with 1 Axes>"
      ]
     },
     "metadata": {},
     "output_type": "display_data"
    }
   ],
   "source": [
    "epochs = 200\n",
    "\n",
    "classifier = SGDClassifier(eta0 = 0.1,\n",
    "                           fit_intercept = True)\n",
    "\n",
    "classes = np.unique(training_y)\n",
    "\n",
    "training_epochs = []\n",
    "validation_epochs = []\n",
    "\n",
    "for epoch in range(epochs):\n",
    "    \n",
    "    classifier.partial_fit(training_X, training_y, classes)\n",
    "    \n",
    "    training_prediction_y = classifier.predict_proba(training_X)\n",
    "    \n",
    "    #print(classifier.coef_)\n",
    "    #print(classifier.intercept_)\n",
    "    #print(training_prediction_y)\n",
    "\n",
    "    \n",
    "    training_mse = log_loss(training_y, training_prediction_y, normalize = True)\n",
    "    \n",
    "    training_epochs.append([epoch, training_mse])\n",
    "    \n",
    "    validation_prediction_y = classifier.predict_proba(validation_X)\n",
    "    validation_mse = log_loss(validation_y, validation_prediction_y, normalize = True)\n",
    "    \n",
    "    validation_epochs.append([epoch, validation_mse])\n",
    "    \n",
    "training_df = pd.DataFrame(data = training_epochs, columns = ['Epoch', 'Cost'])\n",
    "validation_df = pd.DataFrame(data = validation_epochs, columns = ['Epoch', 'Cost'])\n",
    "\n",
    "plt.plot(training_df['Epoch'], training_df['Cost'], linewidth = 1.0, color = 'red')\n",
    "plt.plot(validation_df['Epoch'], validation_df['Cost'], linewidth = 1.0, color = 'blue')\n",
    "\n",
    "plt.xlabel('Epochs')\n",
    "plt.ylabel('Cost')\n",
    "\n",
    "plt.title(\"Cost x Epochs\")\n",
    "plt.legend(['Cost Training', 'Cost Validation'])\n",
    "\n",
    "plt.show()"
   ]
  },
  {
   "cell_type": "code",
   "execution_count": 50,
   "metadata": {},
   "outputs": [
    {
     "data": {
      "text/plain": [
       "1.0"
      ]
     },
     "execution_count": 50,
     "metadata": {},
     "output_type": "execute_result"
    }
   ],
   "source": [
    "predicted_y = classifier.predict(validation_X)\n",
    "accuracy_score(validation_y, predicted_y)"
   ]
  },
  {
   "cell_type": "code",
   "execution_count": 51,
   "metadata": {},
   "outputs": [
    {
     "data": {
      "image/png": "[encoded data removed]",
      "text/plain": [
       "<Figure size 432x288 with 1 Axes>"
      ]
     },
     "metadata": {},
     "output_type": "display_data"
    }
   ],
   "source": [
    "x1 = np.stack([np.random.normal(2, 0.5, 33), np.random.normal(2, 0.5, 33), [0] * 33], axis = 1)\n",
    "x2 = np.stack([np.random.normal(5, 0.5, 33), np.random.normal(8, 0.5, 33), [1] * 33], axis = 1)\n",
    "x3 = np.stack([np.random.normal(8, 0.5, 33), np.random.normal(2, 0.5, 33), [2] * 33], axis = 1)\n",
    "\n",
    "data = np.concatenate((x1, x2, x3))\n",
    "\n",
    "np.random.shuffle(data)\n",
    "\n",
    "color = []\n",
    "\n",
    "for x1, x2, y in data:\n",
    "    \n",
    "    if (y == 0):\n",
    "        color.append('red')\n",
    "    elif (y == 1):\n",
    "        color.append('green')\n",
    "    else:\n",
    "        color.append('blue')\n",
    "\n",
    "plt.scatter(data[:, 0], data[:, 1], color = color)\n",
    "\n",
    "plt.xticks()\n",
    "plt.yticks()\n",
    "\n",
    "plt.show()"
   ]
  },
  {
   "cell_type": "code",
   "execution_count": 52,
   "metadata": {},
   "outputs": [],
   "source": [
    "X = data[:, 0:2]\n",
    "y = data[:, 2]"
   ]
  },
  {
   "cell_type": "code",
   "execution_count": 53,
   "metadata": {},
   "outputs": [],
   "source": [
    "training_size = 0.8\n",
    "\n",
    "total = X.shape[0]\n",
    "\n",
    "training_size = round(total * training_size)\n",
    "validation_size = total - training_size\n",
    "\n",
    "training_X = X[:training_size]\n",
    "validation_X = X[training_size:]\n",
    "\n",
    "training_y = y[:training_size]\n",
    "validation_y = y[training_size:]"
   ]
  },
  {
   "cell_type": "code",
   "execution_count": 54,
   "metadata": {},
   "outputs": [
    {
     "data": {
      "image/png": "[encoded data removed]",
      "text/plain": [
       "<Figure size 432x288 with 1 Axes>"
      ]
     },
     "metadata": {},
     "output_type": "display_data"
    }
   ],
   "source": [
    "epochs = 200\n",
    "\n",
    "classifier = linear_model.SGDClassifier(loss = \"log\",\n",
    "                                        shuffle = False,\n",
    "                                        fit_intercept = True,\n",
    "                                        penalty = None,\n",
    "                                        learning_rate = 'constant',\n",
    "                                        eta0 = 0.1,\n",
    "                                        max_iter = 1000,\n",
    "                                        verbose = False)\n",
    "\n",
    "classes = np.unique(training_y)\n",
    "\n",
    "training_epochs = []\n",
    "validation_epochs = []\n",
    "\n",
    "for epoch in range(epochs):\n",
    "\n",
    "    classifier.partial_fit(training_X, training_y, classes)\n",
    "    \n",
    "    training_prediction_y = classifier.predict_proba(training_X)\n",
    "    training_mse = log_loss(training_y, training_prediction_y, normalize = True)\n",
    "    \n",
    "    training_epochs.append([epoch, training_mse])\n",
    "    \n",
    "    validation_prediction_y = classifier.predict_proba(validation_X)\n",
    "    validation_mse = log_loss(validation_y, validation_prediction_y, normalize = True)\n",
    "    \n",
    "    validation_epochs.append([epoch, validation_mse])\n",
    "    \n",
    "training_df = pd.DataFrame(data = training_epochs, columns = ['Epoch', 'Cost'])\n",
    "validation_df = pd.DataFrame(data = validation_epochs, columns = ['Epoch', 'Cost'])\n",
    "\n",
    "plt.plot(training_df['Epoch'], training_df['Cost'], linewidth = 1.0, color = 'red')\n",
    "plt.plot(validation_df['Epoch'], validation_df['Cost'], linewidth = 1.0, color = 'blue')\n",
    "\n",
    "plt.xlabel('Epochs')\n",
    "plt.ylabel('Cost')\n",
    "\n",
    "plt.title(\"Cost x Epochs\")\n",
    "plt.legend(['Cost Training', 'Cost Validation'])\n",
    "\n",
    "plt.show()"
   ]
  },
  {
   "cell_type": "code",
   "execution_count": 55,
   "metadata": {},
   "outputs": [
    {
     "data": {
      "text/plain": [
       "1.0"
      ]
     },
     "execution_count": 55,
     "metadata": {},
     "output_type": "execute_result"
    }
   ],
   "source": [
    "predicted_y = classifier.predict(validation_X)\n",
    "accuracy_score(validation_y, predicted_y)"
   ]
  },
  {
   "cell_type": "code",
   "execution_count": 56,
   "metadata": {},
   "outputs": [
    {
     "data": {
      "image/png": "[encoded data removed]",
      "text/plain": [
       "<Figure size 432x288 with 1 Axes>"
      ]
     },
     "metadata": {},
     "output_type": "display_data"
    }
   ],
   "source": [
    "epochs = 200\n",
    "\n",
    "classifier = SGDClassifier(fit_intercept = True,\n",
    "                           eta0 = 0.1)\n",
    "\n",
    "classes = np.unique(training_y)\n",
    "\n",
    "training_epochs = []\n",
    "validation_epochs = []\n",
    "\n",
    "for epoch in range(epochs):\n",
    "\n",
    "    classifier.partial_fit(training_X, training_y, classes)\n",
    "    \n",
    "    training_prediction_y = classifier.predict_proba(training_X)\n",
    "    training_mse = log_loss(training_y, training_prediction_y, normalize = True)\n",
    "    \n",
    "    training_epochs.append([epoch, training_mse])\n",
    "    \n",
    "    validation_prediction_y = classifier.predict_proba(validation_X)\n",
    "    validation_mse = log_loss(validation_y, validation_prediction_y, normalize = True)\n",
    "    \n",
    "    validation_epochs.append([epoch, validation_mse])\n",
    "    \n",
    "training_df = pd.DataFrame(data = training_epochs, columns = ['Epoch', 'Cost'])\n",
    "validation_df = pd.DataFrame(data = validation_epochs, columns = ['Epoch', 'Cost'])\n",
    "\n",
    "plt.plot(training_df['Epoch'], training_df['Cost'], linewidth = 1.0, color = 'red')\n",
    "plt.plot(validation_df['Epoch'], validation_df['Cost'], linewidth = 1.0, color = 'blue')\n",
    "\n",
    "plt.xlabel('Epochs')\n",
    "plt.ylabel('Cost')\n",
    "\n",
    "plt.title(\"Cost x Epochs\")\n",
    "plt.legend(['Cost Training', 'Cost Validation'])\n",
    "\n",
    "plt.show()"
   ]
  },
  {
   "cell_type": "code",
   "execution_count": 57,
   "metadata": {},
   "outputs": [
    {
     "data": {
      "text/plain": [
       "1.0"
      ]
     },
     "execution_count": 57,
     "metadata": {},
     "output_type": "execute_result"
    }
   ],
   "source": [
    "predicted_y = classifier.predict(validation_X)\n",
    "accuracy_score(validation_y, predicted_y)"
   ]
  },
  {
   "cell_type": "code",
   "execution_count": null,
   "metadata": {},
   "outputs": [],
   "source": []
  }
 ],
 "metadata": {
  "kernelspec": {
   "display_name": "Python 3",
   "language": "python",
   "name": "python3"
  },
  "language_info": {
   "codemirror_mode": {
    "name": "ipython",
    "version": 3
   },
   "file_extension": ".py",
   "mimetype": "text/x-python",
   "name": "python",
   "nbconvert_exporter": "python",
   "pygments_lexer": "ipython3",
   "version": "3.5.5"
  }
 },
 "nbformat": 4,
 "nbformat_minor": 2
}
